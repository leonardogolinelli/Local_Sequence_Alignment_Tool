{
 "cells": [
  {
   "cell_type": "code",
   "execution_count": 2,
   "metadata": {},
   "outputs": [],
   "source": [
    "import numpy as np"
   ]
  },
  {
   "cell_type": "code",
   "execution_count": 1,
   "metadata": {},
   "outputs": [
    {
     "name": "stdout",
     "output_type": "stream",
     "text": [
      "Python 3.11.5\n"
     ]
    }
   ],
   "source": [
    "!python --version"
   ]
  },
  {
   "cell_type": "code",
   "execution_count": null,
   "metadata": {},
   "outputs": [],
   "source": [
    "#demo for evaluation\n",
    "#https://gtuckerkellogg.github.io/pairwise/demo/"
   ]
  },
  {
   "cell_type": "code",
   "execution_count": null,
   "metadata": {},
   "outputs": [],
   "source": [
    "\"\"\" \n",
    "F(i, j) = max(\n",
    "            F(i - 1, j - 1) + s(xi, yj),\n",
    "            maxk=0…i-1F(k, j) - γ(i - k),\n",
    "            maxk=0…j-1F(i, k) - γ(j - k),\n",
    "            0)   \n",
    "\n",
    "\"\"\""
   ]
  },
  {
   "cell_type": "code",
   "execution_count": 37,
   "metadata": {},
   "outputs": [
    {
     "name": "stdout",
     "output_type": "stream",
     "text": [
      "i: 1, j: 1\n",
      "i: 1, j: 2\n",
      "i: 1, j: 3\n",
      "i: 1, j: 4\n",
      "i: 1, j: 5\n",
      "i: 1, j: 6\n",
      "i: 1, j: 7\n",
      "i: 1, j: 8\n",
      "i: 1, j: 9\n",
      "i: 2, j: 1\n",
      "i: 2, j: 2\n",
      "i: 2, j: 3\n",
      "i: 2, j: 4\n",
      "i: 2, j: 5\n",
      "i: 2, j: 6\n",
      "i: 2, j: 7\n",
      "i: 2, j: 8\n",
      "i: 2, j: 9\n",
      "i: 3, j: 1\n",
      "i: 3, j: 2\n",
      "i: 3, j: 3\n",
      "i: 3, j: 4\n",
      "i: 3, j: 5\n",
      "i: 3, j: 6\n",
      "i: 3, j: 7\n",
      "i: 3, j: 8\n",
      "i: 3, j: 9\n",
      "i: 4, j: 1\n",
      "i: 4, j: 2\n",
      "i: 4, j: 3\n",
      "i: 4, j: 4\n",
      "i: 4, j: 5\n",
      "i: 4, j: 6\n",
      "i: 4, j: 7\n",
      "i: 4, j: 8\n",
      "i: 4, j: 9\n",
      "i: 5, j: 1\n",
      "i: 5, j: 2\n",
      "i: 5, j: 3\n",
      "i: 5, j: 4\n",
      "i: 5, j: 5\n",
      "i: 5, j: 6\n",
      "i: 5, j: 7\n",
      "i: 5, j: 8\n",
      "i: 5, j: 9\n",
      "i: 6, j: 1\n",
      "i: 6, j: 2\n",
      "i: 6, j: 3\n",
      "i: 6, j: 4\n",
      "i: 6, j: 5\n",
      "i: 6, j: 6\n",
      "i: 6, j: 7\n",
      "i: 6, j: 8\n",
      "i: 6, j: 9\n",
      "i: 7, j: 1\n",
      "i: 7, j: 2\n",
      "i: 7, j: 3\n",
      "i: 7, j: 4\n",
      "i: 7, j: 5\n",
      "i: 7, j: 6\n",
      "i: 7, j: 7\n",
      "i: 7, j: 8\n",
      "i: 7, j: 9\n"
     ]
    },
    {
     "data": {
      "text/plain": [
       "array([[0., 0., 0., 0., 0., 0., 0., 0., 0., 0.],\n",
       "       [0., 0., 0., 0., 0., 0., 0., 0., 0., 0.],\n",
       "       [0., 0., 0., 0., 0., 0., 0., 0., 0., 0.],\n",
       "       [0., 0., 1., 1., 1., 1., 1., 1., 1., 1.],\n",
       "       [0., 0., 1., 2., 2., 2., 2., 2., 2., 2.],\n",
       "       [0., 1., 1., 2., 3., 3., 3., 3., 3., 3.],\n",
       "       [0., 1., 1., 2., 3., 3., 3., 4., 4., 4.],\n",
       "       [0., 1., 1., 2., 3., 4., 4., 4., 5., 5.]])"
      ]
     },
     "execution_count": 37,
     "metadata": {},
     "output_type": "execute_result"
    }
   ],
   "source": [
    "scores = {\n",
    "    \"match\" : 1,\n",
    "    \"mismatch\" : -1,\n",
    "    \"gap\": 0\n",
    "}\n",
    "\n",
    "def s(xi,xj):\n",
    "    return scores[\"match\"] if xi == xj else scores[\"mismatch\"]\n",
    "\n",
    "def match_mismatch(i,j, xi, xj, matrix):\n",
    "    return matrix[i-1,j-1] + s(xi, xj)\n",
    "\n",
    "#maxk=0…i-1F(k, j) - γ(i - k)\n",
    "def γ(n):\n",
    "    return n * scores[\"gap\"]\n",
    "\n",
    "def row_gaps_score(i,j):\n",
    "    gap_scores = []\n",
    "    for k in range((i)):\n",
    "        gap_score = matrix[k,j] - γ(i-k)\n",
    "        gap_scores.append(gap_score)\n",
    "    return max(gap_scores)\n",
    "\n",
    "#maxk=0…j-1F(i, k) - γ(j - k),\n",
    "def col_gaps_score(i,j):\n",
    "    gap_scores = []\n",
    "    for k in range((j)):\n",
    "        gap_score = matrix[i,k] - γ(j-k)\n",
    "        gap_scores.append(gap_score)\n",
    "    return max(gap_scores)\n",
    "\n",
    "bottom_sequence = \"GGTTACA\"\n",
    "top_sequence = \"ATTAAACAA\"\n",
    "n_rows = len(bottom_sequence)+1\n",
    "n_cols = len(top_sequence)+1\n",
    "\n",
    "matrix = np.zeros((n_rows, n_cols))\n",
    "\n",
    "for i in range(1,n_rows):\n",
    "    for j in range(1,n_cols):\n",
    "        print(f\"i: {i}, j: {j}\")\n",
    "        xi = bottom_sequence[i-1]\n",
    "        xj = top_sequence[j-1]\n",
    "        score1 = match_mismatch(i,j, xi, xj, matrix)\n",
    "        score2 = row_gaps_score(i,j)\n",
    "        score3 = col_gaps_score(i,j)\n",
    "        top_score = max(score1, \n",
    "                        score2, \n",
    "                        score3, \n",
    "                        0)\n",
    "        matrix[i,j] = top_score\n",
    "        \n",
    "matrix"
   ]
  },
  {
   "cell_type": "code",
   "execution_count": 39,
   "metadata": {},
   "outputs": [
    {
     "data": {
      "text/plain": [
       "array([[0., 0., 0., 0., 0., 0., 0., 0., 0., 0.],\n",
       "       [0., 0., 0., 0., 0., 0., 0., 0., 0., 0.],\n",
       "       [0., 0., 0., 0., 0., 0., 0., 0., 0., 0.],\n",
       "       [0., 0., 1., 1., 1., 1., 1., 1., 1., 1.],\n",
       "       [0., 0., 1., 2., 2., 2., 2., 2., 2., 2.],\n",
       "       [0., 1., 1., 2., 3., 3., 3., 3., 3., 3.],\n",
       "       [0., 1., 1., 2., 3., 3., 3., 4., 4., 4.],\n",
       "       [0., 1., 1., 2., 3., 4., 4., 4., 5., 5.]])"
      ]
     },
     "execution_count": 39,
     "metadata": {},
     "output_type": "execute_result"
    }
   ],
   "source": [
    "matrix"
   ]
  },
  {
   "cell_type": "code",
   "execution_count": 44,
   "metadata": {},
   "outputs": [
    {
     "ename": "TypeError",
     "evalue": "order must be str, not int",
     "output_type": "error",
     "traceback": [
      "\u001b[0;31m---------------------------------------------------------------------------\u001b[0m",
      "\u001b[0;31mTypeError\u001b[0m                                 Traceback (most recent call last)",
      "Cell \u001b[0;32mIn[44], line 1\u001b[0m\n\u001b[0;32m----> 1\u001b[0m matrix\u001b[38;5;241m.\u001b[39mflatten(\u001b[38;5;241m78\u001b[39m)\u001b[38;5;241m.\u001b[39mreshape((n_rows, n_cols))\n",
      "\u001b[0;31mTypeError\u001b[0m: order must be str, not int"
     ]
    }
   ],
   "source": [
    "matrix.flatten(78).reshape((n_rows, n_cols))"
   ]
  }
 ],
 "metadata": {
  "kernelspec": {
   "display_name": "gpvelo",
   "language": "python",
   "name": "python3"
  },
  "language_info": {
   "codemirror_mode": {
    "name": "ipython",
    "version": 3
   },
   "file_extension": ".py",
   "mimetype": "text/x-python",
   "name": "python",
   "nbconvert_exporter": "python",
   "pygments_lexer": "ipython3",
   "version": "undefined.undefined.undefined"
  }
 },
 "nbformat": 4,
 "nbformat_minor": 2
}
