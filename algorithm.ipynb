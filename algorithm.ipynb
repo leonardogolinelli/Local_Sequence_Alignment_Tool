{
 "cells": [
  {
   "cell_type": "code",
   "execution_count": 596,
   "metadata": {},
   "outputs": [],
   "source": [
    "import numpy as np"
   ]
  },
  {
   "cell_type": "code",
   "execution_count": 597,
   "metadata": {},
   "outputs": [
    {
     "name": "stdout",
     "output_type": "stream",
     "text": [
      "Python 3.11.5\n"
     ]
    }
   ],
   "source": [
    "!python --version"
   ]
  },
  {
   "cell_type": "code",
   "execution_count": 598,
   "metadata": {},
   "outputs": [],
   "source": [
    "#demo for evaluation\n",
    "#https://gtuckerkellogg.github.io/pairwise/demo/"
   ]
  },
  {
   "cell_type": "code",
   "execution_count": 599,
   "metadata": {},
   "outputs": [
    {
     "data": {
      "text/plain": [
       "' \\nF(i, j) = max(\\n            F(i - 1, j - 1) + s(xi, yj),\\n            maxk=0…i-1F(k, j) - γ(i - k),\\n            maxk=0…j-1F(i, k) - γ(j - k),\\n            0)   \\n\\n'"
      ]
     },
     "execution_count": 599,
     "metadata": {},
     "output_type": "execute_result"
    }
   ],
   "source": [
    "\"\"\" \n",
    "F(i, j) = max(\n",
    "            F(i - 1, j - 1) + s(xi, yj),\n",
    "            maxk=0…i-1F(k, j) - γ(i - k),\n",
    "            maxk=0…j-1F(i, k) - γ(j - k),\n",
    "            0)   \n",
    "\n",
    "\"\"\""
   ]
  },
  {
   "cell_type": "code",
   "execution_count": 600,
   "metadata": {},
   "outputs": [
    {
     "data": {
      "text/plain": [
       "{'1,1': [],\n",
       " '1,2': [(0, 1)],\n",
       " '1,3': [(1, 2)],\n",
       " '1,4': [],\n",
       " '1,5': [],\n",
       " '1,6': [],\n",
       " '1,7': [(0, 6)],\n",
       " '1,8': [(0, 7)],\n",
       " '2,1': [],\n",
       " '2,2': [(1, 1)],\n",
       " '2,3': [(2, 2)],\n",
       " '2,4': [],\n",
       " '2,5': [],\n",
       " '2,6': [],\n",
       " '2,7': [(1, 6)],\n",
       " '2,8': [(1, 7)],\n",
       " '3,1': [(2, 0)],\n",
       " '3,2': [(2, 2), (3, 1)],\n",
       " '3,3': [(2, 2)],\n",
       " '3,4': [(2, 3), (3, 3)],\n",
       " '3,5': [(3, 3), (3, 4)],\n",
       " '3,6': [],\n",
       " '3,7': [(2, 7)],\n",
       " '3,8': [(2, 8)],\n",
       " '4,1': [(3, 0)],\n",
       " '4,2': [(4, 1)],\n",
       " '4,3': [(3, 2), (3, 3)],\n",
       " '4,4': [(3, 3)],\n",
       " '4,5': [(4, 4)],\n",
       " '4,6': [(4, 4), (4, 5)],\n",
       " '4,7': [(4, 4), (4, 5), (4, 6)],\n",
       " '4,8': [(2, 8), (3, 8)],\n",
       " '5,1': [(4, 1)],\n",
       " '5,2': [(4, 1)],\n",
       " '5,3': [(5, 2)],\n",
       " '5,4': [(4, 4)],\n",
       " '5,5': [(4, 4)],\n",
       " '5,6': [(4, 5), (5, 5)],\n",
       " '5,7': [(4, 6)],\n",
       " '5,8': [(4, 7), (5, 7)],\n",
       " '6,1': [],\n",
       " '6,2': [(5, 2)],\n",
       " '6,3': [(5, 2)],\n",
       " '6,4': [(4, 4), (5, 4)],\n",
       " '6,5': [(5, 4)],\n",
       " '6,6': [(6, 5)],\n",
       " '6,7': [(5, 7), (6, 5), (6, 6)],\n",
       " '6,8': [(5, 7)],\n",
       " '7,1': [],\n",
       " '7,2': [(5, 2), (6, 2)],\n",
       " '7,3': [(6, 2), (6, 3)],\n",
       " '7,4': [(4, 4), (5, 4), (6, 4)],\n",
       " '7,5': [(6, 5)],\n",
       " '7,6': [(6, 5)],\n",
       " '7,7': [(7, 6)],\n",
       " '7,8': [(7, 6), (7, 7)],\n",
       " '8,1': [(7, 0)],\n",
       " '8,2': [(8, 1)],\n",
       " '8,3': [(7, 2)],\n",
       " '8,4': [(7, 3)],\n",
       " '8,5': [(6, 5), (7, 5)],\n",
       " '8,6': [(7, 6)],\n",
       " '8,7': [(7, 6)],\n",
       " '8,8': [(7, 7), (8, 7)],\n",
       " '9,1': [(8, 1)],\n",
       " '9,2': [],\n",
       " '9,3': [(8, 3)],\n",
       " '9,4': [(8, 3), (8, 4)],\n",
       " '9,5': [(8, 4)],\n",
       " '9,6': [(7, 6), (8, 6)],\n",
       " '9,7': [(8, 6), (8, 7)],\n",
       " '9,8': [(8, 7)]}"
      ]
     },
     "execution_count": 600,
     "metadata": {},
     "output_type": "execute_result"
    }
   ],
   "source": [
    "scores = {\n",
    "    \"match\" : 3,\n",
    "    \"mismatch\" : -3,\n",
    "    \"gap\": 2\n",
    "}\n",
    "\n",
    "top_sequence = \"TGTTACGG\"\n",
    "bottom_sequence = \"GGTTGACTA\"\n",
    "\n",
    "\n",
    "def s(xi,xj):\n",
    "    return scores[\"match\"] if xi == xj else scores[\"mismatch\"]\n",
    "\n",
    "def match_mismatch(i,j, xi, xj, matrix):\n",
    "    return matrix[i-1,j-1] + s(xi, xj)\n",
    "\n",
    "#maxk=0…i-1F(k, j) - γ(i - k)\n",
    "def γ(n):\n",
    "    return n * scores[\"gap\"]\n",
    "\n",
    "def row_gaps_score(i,j):\n",
    "    gap_scores = []\n",
    "    for k in range((i)):\n",
    "        gap_score = matrix[k,j] - γ(i-k)\n",
    "        gap_scores.append(gap_score)\n",
    "    \n",
    "    max_score = np.max(gap_scores)\n",
    "    kth_rows = tuple([k for k,value in enumerate(gap_scores) if value==max_score])\n",
    "    #print(kth_rows)\n",
    "    return max_score, kth_rows\n",
    "\n",
    "#maxk=0…j-1F(i, k) - γ(j - k),\n",
    "def col_gaps_score(i,j):\n",
    "    gap_scores = []\n",
    "    for k in range((j)):\n",
    "        gap_score = matrix[i,k] - γ(j-k)\n",
    "        gap_scores.append(gap_score)\n",
    "\n",
    "    max_score = np.max(gap_scores)\n",
    "    kth_cols = tuple([k for k,value in enumerate(gap_scores) if value==max_score])\n",
    "    #print(kth_cols)\n",
    "    return max_score, kth_cols\n",
    "\n",
    "\n",
    "n_rows = len(bottom_sequence)+1\n",
    "n_cols = len(top_sequence)+1\n",
    "\n",
    "matrix = np.zeros((n_rows, n_cols))\n",
    "traceback_dic = {}\n",
    "\n",
    "for i in range(1,n_rows):\n",
    "    for j in range(1,n_cols):\n",
    "        #print(f\"i: {i}, j: {j}\")\n",
    "        xi = bottom_sequence[i-1]\n",
    "        xj = top_sequence[j-1]\n",
    "        score1 = match_mismatch(i,j, xi, xj, matrix)\n",
    "        score2, kth_rows = row_gaps_score(i,j)\n",
    "        score3, kth_cols = col_gaps_score(i,j)\n",
    "        top_score = max(score1, \n",
    "                        score2, \n",
    "                        score3, \n",
    "                        0)\n",
    "        \n",
    "        matrix[i,j] = top_score\n",
    "\n",
    "        top_idx = [t for t, value in enumerate([score1, score2, score3]) if value == top_score]\n",
    "        traceback_dic[f\"{i},{j}\"] = []\n",
    "        for idx in top_idx:\n",
    "            #print(f\"i,j: {i},{j}: \",end=\" \")\n",
    "            #print(traceback_dic[f\"{i},{j}\"])\n",
    "            if top_score > 0:\n",
    "                if idx == 0:\n",
    "                    traceback_dic[f\"{i},{j}\"].append((i-1,j-1))\n",
    "                elif idx == 1:\n",
    "                    for k in kth_rows:\n",
    "                        traceback_dic[f\"{i},{j}\"].append((k,j))\n",
    "                elif idx == 2:\n",
    "                    for k in kth_cols:\n",
    "                        traceback_dic[f\"{i},{j}\"].append((i,k))                \n",
    "\n",
    "traceback_dic"
   ]
  },
  {
   "cell_type": "code",
   "execution_count": 601,
   "metadata": {},
   "outputs": [],
   "source": [
    "def recursive_traceback(matrix, traceback_dic, traceback_paths, i,j, i0,j0):\n",
    "    while matrix[i0,j0] > 0:\n",
    "        i0,j0 = traceback_dic[f\"{i0},{j0}\"][0] #fetches the first element, prioritizes diagonal > up > left\n",
    "        traceback_paths[f\"{i},{j}\"].append((i0,j0))"
   ]
  },
  {
   "cell_type": "code",
   "execution_count": 602,
   "metadata": {},
   "outputs": [],
   "source": [
    "sorted_score_set = np.sort(list(set(matrix.flatten())))[::-1]"
   ]
  },
  {
   "cell_type": "code",
   "execution_count": 603,
   "metadata": {},
   "outputs": [
    {
     "data": {
      "text/plain": [
       "array([13., 11., 11., 10., 10.,  9.,  9.,  9.,  8.,  8.,  8.,  8.,  8.,\n",
       "        7.,  7.,  7.,  7.,  6.,  6.,  6.,  6.,  6.,  6.,  6.,  5.,  5.,\n",
       "        5.,  5.,  4.,  4.,  4.,  4.,  4.,  4.,  4.,  3.,  3.,  3.,  3.,\n",
       "        3.,  3.,  3.,  3.,  3.,  3.,  3.,  3.,  2.,  2.,  2.,  2.,  1.,\n",
       "        1.,  1.,  1.,  1.,  1.,  1.,  1.,  1.,  0.,  0.,  0.,  0.,  0.,\n",
       "        0.,  0.,  0.,  0.,  0.,  0.,  0.,  0.,  0.,  0.,  0.,  0.,  0.,\n",
       "        0.,  0.,  0.,  0.,  0.,  0.,  0.,  0.,  0.,  0.,  0.,  0.])"
      ]
     },
     "execution_count": 603,
     "metadata": {},
     "output_type": "execute_result"
    }
   ],
   "source": [
    "np.sort(matrix.flatten())[::-1]"
   ]
  },
  {
   "cell_type": "code",
   "execution_count": 604,
   "metadata": {},
   "outputs": [],
   "source": [
    "sorted_score_set = np.sort(list(set(matrix.flatten())))[::-1]\n",
    "best_score = sorted_score_set[0]\n",
    "second_best_score = sorted_score_set[1]\n",
    "max_indices = np.argwhere(matrix == best_score)\n",
    "max_indices\n",
    "traceback_paths = {}\n",
    "for idx_pair in max_indices:\n",
    "    i,j = idx_pair\n",
    "    traceback_paths[f\"{i},{j}\"] = []\n",
    "    #traceback_paths[f\"{i},{j}\"].append((i,j))\n",
    "    \n",
    "    recursive_traceback(matrix, traceback_dic, traceback_paths, i,j, i0=i,j0=j)"
   ]
  },
  {
   "cell_type": "code",
   "execution_count": 605,
   "metadata": {},
   "outputs": [
    {
     "data": {
      "text/plain": [
       "{'7,6': [(6, 5), (5, 4), (4, 4), (3, 3), (2, 2), (1, 1)]}"
      ]
     },
     "execution_count": 605,
     "metadata": {},
     "output_type": "execute_result"
    }
   ],
   "source": [
    "traceback_paths"
   ]
  },
  {
   "cell_type": "code",
   "execution_count": 613,
   "metadata": {},
   "outputs": [
    {
     "data": {
      "text/plain": [
       "1"
      ]
     },
     "execution_count": 613,
     "metadata": {},
     "output_type": "execute_result"
    }
   ],
   "source": [
    "len(list(traceback_paths.keys()))"
   ]
  },
  {
   "cell_type": "code",
   "execution_count": 610,
   "metadata": {},
   "outputs": [
    {
     "name": "stdout",
     "output_type": "stream",
     "text": [
      "max_score: 13.0\n",
      "alignment_length: 6\n",
      "GTT-AC\n",
      "GTTGAC\n",
      "\n",
      "5 0 1\n"
     ]
    }
   ],
   "source": [
    "for num, key in enumerate(traceback_paths):\n",
    "    i,j = key.split(\",\")\n",
    "    i,j = int(i),int(j)\n",
    "    top_seq = \"\"\n",
    "    bot_seq = \"\"\n",
    "    top_sequence_add = \" \" + top_sequence\n",
    "    bottom_sequence_add = \" \" + bottom_sequence\n",
    "\n",
    "    #print(top_sequence)\n",
    "    #print(bottom_sequence)\n",
    "\n",
    "    for it, idx_pair in enumerate(traceback_paths[f\"{i},{j}\"]):\n",
    "        #print(it, idx_pair)\n",
    "        i_new,j_new = idx_pair\n",
    "\n",
    "        if it==0:\n",
    "            i_old, j_old = i, j\n",
    "\n",
    "        diff_top = j_old - j_new\n",
    "        diff_bot = i_old - i_new\n",
    "        #print(it, diff_bot, diff_top, i_new, j_new, i_old, j_old)\n",
    "        #print(top_seq)\n",
    "        #print(bot_seq)\n",
    "        #test = (not top_sequence_add[j_old] == \" \") and (not bottom_sequence_add[j_old] == \" \") #and (not matrix[i_new, j_new] == 0)\n",
    "        test = True\n",
    "        if diff_top == diff_bot == 1:\n",
    "            top_seq += top_sequence_add[j_old]\n",
    "            bot_seq += bottom_sequence_add[i_old]\n",
    "        elif diff_top >= 1 and diff_bot == 0:\n",
    "            top_seq += (diff_top-1) * \"-\" + top_sequence_add[j_old] \n",
    "            bot_seq += diff_top * \"-\"\n",
    "        elif diff_top == 0 and diff_bot >=1:\n",
    "            #print(\"yes\")\n",
    "            top_seq += diff_bot * \"-\"\n",
    "            bot_seq += (diff_bot-1) * \"-\" + bottom_sequence_add[i_old]\n",
    "        else:\n",
    "            #print(it, diff_top)\n",
    "            #print(it, diff_bot)\n",
    "            print(it)\n",
    "            \n",
    "        i_old, j_old = idx_pair\n",
    "\n",
    "        #print(top_seq)\n",
    "        #print(bot_seq)\n",
    "            \n",
    "    print(f\"max_score: {best_score}\")\n",
    "    print(f\"alignment_length: {len(top_seq[::-1])}\")\n",
    "    print(top_seq[::-1])\n",
    "    print(bot_seq[::-1])\n",
    "    print(\"\")\n",
    "\n",
    "    n_match = 0\n",
    "    n_mismatch = 0\n",
    "    n_gaps = 0\n",
    "\n",
    "    for i,j in zip(top_seq, bot_seq):\n",
    "        if i==j:\n",
    "            n_match +=1\n",
    "        elif i!=j:\n",
    "            if i == \"-\" or j == \"-\":\n",
    "                n_gaps +=1\n",
    "            else:\n",
    "                n_mismatch +=1\n",
    "    print(n_match, n_mismatch, n_gaps)"
   ]
  },
  {
   "cell_type": "code",
   "execution_count": 607,
   "metadata": {},
   "outputs": [
    {
     "data": {
      "text/plain": [
       "{'7,6': [(6, 5), (5, 4), (4, 4), (3, 3), (2, 2), (1, 1)]}"
      ]
     },
     "execution_count": 607,
     "metadata": {},
     "output_type": "execute_result"
    }
   ],
   "source": [
    "traceback_paths"
   ]
  },
  {
   "cell_type": "code",
   "execution_count": 608,
   "metadata": {},
   "outputs": [
    {
     "data": {
      "text/html": [
       "<div>\n",
       "<style scoped>\n",
       "    .dataframe tbody tr th:only-of-type {\n",
       "        vertical-align: middle;\n",
       "    }\n",
       "\n",
       "    .dataframe tbody tr th {\n",
       "        vertical-align: top;\n",
       "    }\n",
       "\n",
       "    .dataframe thead th {\n",
       "        text-align: right;\n",
       "    }\n",
       "</style>\n",
       "<table border=\"1\" class=\"dataframe\">\n",
       "  <thead>\n",
       "    <tr style=\"text-align: right;\">\n",
       "      <th></th>\n",
       "      <th>0</th>\n",
       "      <th>1</th>\n",
       "      <th>2</th>\n",
       "      <th>3</th>\n",
       "      <th>4</th>\n",
       "      <th>5</th>\n",
       "      <th>6</th>\n",
       "      <th>7</th>\n",
       "      <th>8</th>\n",
       "    </tr>\n",
       "  </thead>\n",
       "  <tbody>\n",
       "    <tr>\n",
       "      <th>0</th>\n",
       "      <td>(0,0)</td>\n",
       "      <td>(0,1)</td>\n",
       "      <td>(0,2)</td>\n",
       "      <td>(0,3)</td>\n",
       "      <td>(0,4)</td>\n",
       "      <td>(0,5)</td>\n",
       "      <td>(0,6)</td>\n",
       "      <td>(0,7)</td>\n",
       "      <td>(0,8)</td>\n",
       "    </tr>\n",
       "    <tr>\n",
       "      <th>1</th>\n",
       "      <td>(1,0)</td>\n",
       "      <td>(1,1)</td>\n",
       "      <td>(1,2)</td>\n",
       "      <td>(1,3)</td>\n",
       "      <td>(1,4)</td>\n",
       "      <td>(1,5)</td>\n",
       "      <td>(1,6)</td>\n",
       "      <td>(1,7)</td>\n",
       "      <td>(1,8)</td>\n",
       "    </tr>\n",
       "    <tr>\n",
       "      <th>2</th>\n",
       "      <td>(2,0)</td>\n",
       "      <td>(2,1)</td>\n",
       "      <td>(2,2)</td>\n",
       "      <td>(2,3)</td>\n",
       "      <td>(2,4)</td>\n",
       "      <td>(2,5)</td>\n",
       "      <td>(2,6)</td>\n",
       "      <td>(2,7)</td>\n",
       "      <td>(2,8)</td>\n",
       "    </tr>\n",
       "    <tr>\n",
       "      <th>3</th>\n",
       "      <td>(3,0)</td>\n",
       "      <td>(3,1)</td>\n",
       "      <td>(3,2)</td>\n",
       "      <td>(3,3)</td>\n",
       "      <td>(3,4)</td>\n",
       "      <td>(3,5)</td>\n",
       "      <td>(3,6)</td>\n",
       "      <td>(3,7)</td>\n",
       "      <td>(3,8)</td>\n",
       "    </tr>\n",
       "    <tr>\n",
       "      <th>4</th>\n",
       "      <td>(4,0)</td>\n",
       "      <td>(4,1)</td>\n",
       "      <td>(4,2)</td>\n",
       "      <td>(4,3)</td>\n",
       "      <td>(4,4)</td>\n",
       "      <td>(4,5)</td>\n",
       "      <td>(4,6)</td>\n",
       "      <td>(4,7)</td>\n",
       "      <td>(4,8)</td>\n",
       "    </tr>\n",
       "    <tr>\n",
       "      <th>5</th>\n",
       "      <td>(5,0)</td>\n",
       "      <td>(5,1)</td>\n",
       "      <td>(5,2)</td>\n",
       "      <td>(5,3)</td>\n",
       "      <td>(5,4)</td>\n",
       "      <td>(5,5)</td>\n",
       "      <td>(5,6)</td>\n",
       "      <td>(5,7)</td>\n",
       "      <td>(5,8)</td>\n",
       "    </tr>\n",
       "    <tr>\n",
       "      <th>6</th>\n",
       "      <td>(6,0)</td>\n",
       "      <td>(6,1)</td>\n",
       "      <td>(6,2)</td>\n",
       "      <td>(6,3)</td>\n",
       "      <td>(6,4)</td>\n",
       "      <td>(6,5)</td>\n",
       "      <td>(6,6)</td>\n",
       "      <td>(6,7)</td>\n",
       "      <td>(6,8)</td>\n",
       "    </tr>\n",
       "    <tr>\n",
       "      <th>7</th>\n",
       "      <td>(7,0)</td>\n",
       "      <td>(7,1)</td>\n",
       "      <td>(7,2)</td>\n",
       "      <td>(7,3)</td>\n",
       "      <td>(7,4)</td>\n",
       "      <td>(7,5)</td>\n",
       "      <td>(7,6)</td>\n",
       "      <td>(7,7)</td>\n",
       "      <td>(7,8)</td>\n",
       "    </tr>\n",
       "    <tr>\n",
       "      <th>8</th>\n",
       "      <td>(8,0)</td>\n",
       "      <td>(8,1)</td>\n",
       "      <td>(8,2)</td>\n",
       "      <td>(8,3)</td>\n",
       "      <td>(8,4)</td>\n",
       "      <td>(8,5)</td>\n",
       "      <td>(8,6)</td>\n",
       "      <td>(8,7)</td>\n",
       "      <td>(8,8)</td>\n",
       "    </tr>\n",
       "    <tr>\n",
       "      <th>9</th>\n",
       "      <td>(9,0)</td>\n",
       "      <td>(9,1)</td>\n",
       "      <td>(9,2)</td>\n",
       "      <td>(9,3)</td>\n",
       "      <td>(9,4)</td>\n",
       "      <td>(9,5)</td>\n",
       "      <td>(9,6)</td>\n",
       "      <td>(9,7)</td>\n",
       "      <td>(9,8)</td>\n",
       "    </tr>\n",
       "  </tbody>\n",
       "</table>\n",
       "</div>"
      ],
      "text/plain": [
       "       0      1      2      3      4      5      6      7      8\n",
       "0  (0,0)  (0,1)  (0,2)  (0,3)  (0,4)  (0,5)  (0,6)  (0,7)  (0,8)\n",
       "1  (1,0)  (1,1)  (1,2)  (1,3)  (1,4)  (1,5)  (1,6)  (1,7)  (1,8)\n",
       "2  (2,0)  (2,1)  (2,2)  (2,3)  (2,4)  (2,5)  (2,6)  (2,7)  (2,8)\n",
       "3  (3,0)  (3,1)  (3,2)  (3,3)  (3,4)  (3,5)  (3,6)  (3,7)  (3,8)\n",
       "4  (4,0)  (4,1)  (4,2)  (4,3)  (4,4)  (4,5)  (4,6)  (4,7)  (4,8)\n",
       "5  (5,0)  (5,1)  (5,2)  (5,3)  (5,4)  (5,5)  (5,6)  (5,7)  (5,8)\n",
       "6  (6,0)  (6,1)  (6,2)  (6,3)  (6,4)  (6,5)  (6,6)  (6,7)  (6,8)\n",
       "7  (7,0)  (7,1)  (7,2)  (7,3)  (7,4)  (7,5)  (7,6)  (7,7)  (7,8)\n",
       "8  (8,0)  (8,1)  (8,2)  (8,3)  (8,4)  (8,5)  (8,6)  (8,7)  (8,8)\n",
       "9  (9,0)  (9,1)  (9,2)  (9,3)  (9,4)  (9,5)  (9,6)  (9,7)  (9,8)"
      ]
     },
     "metadata": {},
     "output_type": "display_data"
    }
   ],
   "source": [
    "import pandas as pd\n",
    "\n",
    "# Define the shape of the matrix\n",
    "rows, cols = n_rows, n_cols\n",
    "\n",
    "# Create the matrix with the specified entries\n",
    "visual_matrix = [[f\"({row},{col})\" for col in range(cols)] for row in range(rows)]\n",
    "\n",
    "# Convert to a pandas DataFrame\n",
    "matrix_df = pd.DataFrame(visual_matrix)\n",
    "from IPython.display import display\n",
    "# Display the DataFrame\n",
    "display(pd.DataFrame(matrix_df))\n"
   ]
  },
  {
   "cell_type": "code",
   "execution_count": 609,
   "metadata": {},
   "outputs": [
    {
     "data": {
      "image/png": "[encoded data removed]",
      "text/plain": [
       "<Figure size 640x480 with 1 Axes>"
      ]
     },
     "metadata": {},
     "output_type": "display_data"
    }
   ],
   "source": [
    "import numpy as np\n",
    "import matplotlib.pyplot as plt\n",
    "\n",
    "\n",
    "\n",
    "# Example matrix\n",
    "for idx_pair in max_indices:\n",
    "    i,j = idx_pair\n",
    "    # List of 2D coordinates to color in red\n",
    "    coordinates = traceback_paths[f\"{i},{j}\"]\n",
    "\n",
    "            \n",
    "    # Plotting the matrix\n",
    "    fig, ax = plt.subplots()\n",
    "    ax.set_xticks(np.arange(matrix.shape[1] + 1) - 0.5, minor=True)\n",
    "    ax.set_yticks(np.arange(matrix.shape[0] + 1) - 0.5, minor=True)\n",
    "    ax.grid(which='minor', color='black', linestyle='-', linewidth=2)\n",
    "    ax.tick_params(which='minor', size=0)\n",
    "\n",
    "    # Adding text for each cell\n",
    "    for i in range(matrix.shape[0]):\n",
    "        for j in range(matrix.shape[1]):\n",
    "            color = 'red' if (i, j) in coordinates else 'black'\n",
    "            ax.text(j, i, str(matrix[i, j]), va='center', ha='center', color=color)\n",
    "\n",
    "    # Hide the major ticks\n",
    "    ax.set_xticks([])\n",
    "    ax.set_yticks([])\n",
    "\n",
    "    # Invert the y-axis to have the origin at the top left\n",
    "    plt.gca().invert_yaxis()\n",
    "\n",
    "    plt.show()\n",
    "\n"
   ]
  }
 ],
 "metadata": {
  "kernelspec": {
   "display_name": "gpvelo",
   "language": "python",
   "name": "python3"
  },
  "language_info": {
   "codemirror_mode": {
    "name": "ipython",
    "version": 3
   },
   "file_extension": ".py",
   "mimetype": "text/x-python",
   "name": "python",
   "nbconvert_exporter": "python",
   "pygments_lexer": "ipython3",
   "version": "3.11.5"
  }
 },
 "nbformat": 4,
 "nbformat_minor": 2
}
