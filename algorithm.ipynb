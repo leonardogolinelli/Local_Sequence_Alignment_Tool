{
 "cells": [
  {
   "cell_type": "code",
   "execution_count": 14,
   "metadata": {},
   "outputs": [],
   "source": [
    "import numpy as np"
   ]
  },
  {
   "cell_type": "code",
   "execution_count": 15,
   "metadata": {},
   "outputs": [
    {
     "name": "stdout",
     "output_type": "stream",
     "text": [
      "Python 3.11.5\n"
     ]
    }
   ],
   "source": [
    "!python --version"
   ]
  },
  {
   "cell_type": "code",
   "execution_count": 16,
   "metadata": {},
   "outputs": [],
   "source": [
    "#demo for evaluation\n",
    "#https://gtuckerkellogg.github.io/pairwise/demo/"
   ]
  },
  {
   "cell_type": "code",
   "execution_count": 17,
   "metadata": {},
   "outputs": [
    {
     "data": {
      "text/plain": [
       "' \\nF(i, j) = max(\\n            F(i - 1, j - 1) + s(xi, yj),\\n            maxk=0…i-1F(k, j) - γ(i - k),\\n            maxk=0…j-1F(i, k) - γ(j - k),\\n            0)   \\n\\n'"
      ]
     },
     "execution_count": 17,
     "metadata": {},
     "output_type": "execute_result"
    }
   ],
   "source": [
    "\"\"\" \n",
    "F(i, j) = max(\n",
    "            F(i - 1, j - 1) + s(xi, yj),\n",
    "            maxk=0…i-1F(k, j) - γ(i - k),\n",
    "            maxk=0…j-1F(i, k) - γ(j - k),\n",
    "            0)   \n",
    "\n",
    "\"\"\""
   ]
  },
  {
   "cell_type": "code",
   "execution_count": 18,
   "metadata": {},
   "outputs": [
    {
     "data": {
      "text/plain": [
       "{'1,1': None,\n",
       " '1,2': None,\n",
       " '1,3': None,\n",
       " '1,4': None,\n",
       " '1,5': None,\n",
       " '1,6': None,\n",
       " '1,7': None,\n",
       " '1,8': None,\n",
       " '1,9': None,\n",
       " '1,10': None,\n",
       " '2,1': None,\n",
       " '2,2': None,\n",
       " '2,3': (0,),\n",
       " '2,4': (2,),\n",
       " '2,5': (0, 2),\n",
       " '2,6': (2,),\n",
       " '2,7': (2,),\n",
       " '2,8': (2,),\n",
       " '2,9': (2,),\n",
       " '2,10': (2,),\n",
       " '3,1': None,\n",
       " '3,2': None,\n",
       " '3,3': (1,),\n",
       " '3,4': (1, 2),\n",
       " '3,5': (1, 2),\n",
       " '3,6': (0,),\n",
       " '3,7': (2,),\n",
       " '3,8': (2,),\n",
       " '3,9': (2,),\n",
       " '3,10': (2,),\n",
       " '4,1': (0,),\n",
       " '4,2': (2,),\n",
       " '4,3': (1, 2),\n",
       " '4,4': (1, 2),\n",
       " '4,5': (1, 2),\n",
       " '4,6': (1,),\n",
       " '4,7': (1, 2),\n",
       " '4,8': (0,),\n",
       " '4,9': (2,),\n",
       " '4,10': (2,),\n",
       " '5,1': (1,),\n",
       " '5,2': (0,),\n",
       " '5,3': (2,),\n",
       " '5,4': (2,),\n",
       " '5,5': (2,),\n",
       " '5,6': (1, 2),\n",
       " '5,7': (1, 2),\n",
       " '5,8': (1,),\n",
       " '5,9': (0,),\n",
       " '5,10': (0, 2),\n",
       " '6,1': (1,),\n",
       " '6,2': (1,),\n",
       " '6,3': (0,),\n",
       " '6,4': (2,),\n",
       " '6,5': (0, 2),\n",
       " '6,6': (2,),\n",
       " '6,7': (2,),\n",
       " '6,8': (1, 2),\n",
       " '6,9': (1,),\n",
       " '6,10': (1, 2),\n",
       " '7,1': (1,),\n",
       " '7,2': (0, 1),\n",
       " '7,3': (1,),\n",
       " '7,4': (1, 2),\n",
       " '7,5': (1, 2),\n",
       " '7,6': (1, 2),\n",
       " '7,7': (1, 2),\n",
       " '7,8': (1, 2),\n",
       " '7,9': (0, 1),\n",
       " '7,10': (0,)}"
      ]
     },
     "execution_count": 18,
     "metadata": {},
     "output_type": "execute_result"
    }
   ],
   "source": [
    "scores = {\n",
    "    \"match\" : 2,\n",
    "    \"mismatch\" : -1,\n",
    "    \"gap\": 0\n",
    "}\n",
    "\n",
    "def s(xi,xj):\n",
    "    return scores[\"match\"] if xi == xj else scores[\"mismatch\"]\n",
    "\n",
    "def match_mismatch(i,j, xi, xj, matrix):\n",
    "    return matrix[i-1,j-1] + s(xi, xj)\n",
    "\n",
    "#maxk=0…i-1F(k, j) - γ(i - k)\n",
    "def γ(n):\n",
    "    return n * scores[\"gap\"]\n",
    "\n",
    "def row_gaps_score(i,j):\n",
    "    gap_scores = []\n",
    "    for k in range((i)):\n",
    "        gap_score = matrix[k,j] - γ(i-k)\n",
    "        gap_scores.append(gap_score)\n",
    "    \n",
    "    return np.max(gap_scores), np.argmax(gap_scores)\n",
    "\n",
    "#maxk=0…j-1F(i, k) - γ(j - k),\n",
    "def col_gaps_score(i,j):\n",
    "    gap_scores = []\n",
    "    for k in range((j)):\n",
    "        gap_score = matrix[i,k] - γ(j-k)\n",
    "        gap_scores.append(gap_score)\n",
    "    return np.max(gap_scores), np.argmax(gap_scores)\n",
    "\n",
    "bottom_sequence = \"PAWHEAE\"\n",
    "top_sequence = \"HEAGAWGHEE\"\n",
    "n_rows = len(bottom_sequence)+1\n",
    "n_cols = len(top_sequence)+1\n",
    "\n",
    "matrix = np.zeros((n_rows, n_cols))\n",
    "traceback_dic = {}\n",
    "\n",
    "for i in range(1,n_rows):\n",
    "    for j in range(1,n_cols):\n",
    "        #print(f\"i: {i}, j: {j}\")\n",
    "        xi = bottom_sequence[i-1]\n",
    "        xj = top_sequence[j-1]\n",
    "        score1 = match_mismatch(i,j, xi, xj, matrix)\n",
    "        score2, kth_row = row_gaps_score(i,j)\n",
    "        score3, kth_col = col_gaps_score(i,j)\n",
    "        top_score = max(score1, \n",
    "                        score2, \n",
    "                        score3, \n",
    "                        0)\n",
    "        \n",
    "        matrix[i,j] = top_score\n",
    "\n",
    "        top_idx = tuple([t for t, value in enumerate([score1, score2, score3]) if value == top_score])\n",
    "        traceback_dic[f\"{i},{j}\"] = top_idx if top_score > 0 else None\n",
    "\n",
    "traceback_dic"
   ]
  },
  {
   "cell_type": "code",
   "execution_count": 19,
   "metadata": {},
   "outputs": [
    {
     "data": {
      "text/plain": [
       "array([[ 0.,  0.,  0.,  0.,  0.,  0.,  0.,  0.,  0.,  0.,  0.],\n",
       "       [ 0.,  0.,  0.,  0.,  0.,  0.,  0.,  0.,  0.,  0.,  0.],\n",
       "       [ 0.,  0.,  0.,  2.,  2.,  2.,  2.,  2.,  2.,  2.,  2.],\n",
       "       [ 0.,  0.,  0.,  2.,  2.,  2.,  4.,  4.,  4.,  4.,  4.],\n",
       "       [ 0.,  2.,  2.,  2.,  2.,  2.,  4.,  4.,  6.,  6.,  6.],\n",
       "       [ 0.,  2.,  4.,  4.,  4.,  4.,  4.,  4.,  6.,  8.,  8.],\n",
       "       [ 0.,  2.,  4.,  6.,  6.,  6.,  6.,  6.,  6.,  8.,  8.],\n",
       "       [ 0.,  2.,  4.,  6.,  6.,  6.,  6.,  6.,  6.,  8., 10.]])"
      ]
     },
     "execution_count": 19,
     "metadata": {},
     "output_type": "execute_result"
    }
   ],
   "source": [
    "matrix"
   ]
  }
 ],
 "metadata": {
  "kernelspec": {
   "display_name": "gpvelo",
   "language": "python",
   "name": "python3"
  },
  "language_info": {
   "codemirror_mode": {
    "name": "ipython",
    "version": 3
   },
   "file_extension": ".py",
   "mimetype": "text/x-python",
   "name": "python",
   "nbconvert_exporter": "python",
   "pygments_lexer": "ipython3",
   "version": "3.11.5"
  }
 },
 "nbformat": 4,
 "nbformat_minor": 2
}
