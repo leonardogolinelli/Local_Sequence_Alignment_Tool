{
 "cells": [
  {
   "cell_type": "code",
   "execution_count": 32,
   "metadata": {},
   "outputs": [],
   "source": [
    "import numpy as np"
   ]
  },
  {
   "cell_type": "code",
   "execution_count": 33,
   "metadata": {},
   "outputs": [
    {
     "name": "stdout",
     "output_type": "stream",
     "text": [
      "Python 3.11.5\n"
     ]
    }
   ],
   "source": [
    "!python --version"
   ]
  },
  {
   "cell_type": "code",
   "execution_count": 34,
   "metadata": {},
   "outputs": [],
   "source": [
    "#demo for evaluation\n",
    "#https://gtuckerkellogg.github.io/pairwise/demo/"
   ]
  },
  {
   "cell_type": "code",
   "execution_count": 35,
   "metadata": {},
   "outputs": [
    {
     "data": {
      "text/plain": [
       "' \\nF(i, j) = max(\\n            F(i - 1, j - 1) + s(xi, yj),\\n            maxk=0…i-1F(k, j) - γ(i - k),\\n            maxk=0…j-1F(i, k) - γ(j - k),\\n            0)   \\n\\n'"
      ]
     },
     "execution_count": 35,
     "metadata": {},
     "output_type": "execute_result"
    }
   ],
   "source": [
    "\"\"\" \n",
    "F(i, j) = max(\n",
    "            F(i - 1, j - 1) + s(xi, yj),\n",
    "            maxk=0…i-1F(k, j) - γ(i - k),\n",
    "            maxk=0…j-1F(i, k) - γ(j - k),\n",
    "            0)   \n",
    "\n",
    "\"\"\""
   ]
  },
  {
   "cell_type": "code",
   "execution_count": 36,
   "metadata": {},
   "outputs": [
    {
     "data": {
      "text/plain": [
       "{'1,1': [],\n",
       " '1,2': [],\n",
       " '1,3': [],\n",
       " '1,4': [],\n",
       " '1,5': [],\n",
       " '1,6': [],\n",
       " '1,7': [],\n",
       " '1,8': [],\n",
       " '1,9': [],\n",
       " '1,10': [],\n",
       " '2,1': [],\n",
       " '2,2': [],\n",
       " '2,3': [(1, 2)],\n",
       " '2,4': [],\n",
       " '2,5': [(1, 4)],\n",
       " '2,6': [],\n",
       " '2,7': [],\n",
       " '2,8': [],\n",
       " '2,9': [],\n",
       " '2,10': [],\n",
       " '3,1': [],\n",
       " '3,2': [],\n",
       " '3,3': [],\n",
       " '3,4': [],\n",
       " '3,5': [],\n",
       " '3,6': [(2, 5)],\n",
       " '3,7': [],\n",
       " '3,8': [],\n",
       " '3,9': [],\n",
       " '3,10': [],\n",
       " '4,1': [(3, 0)],\n",
       " '4,2': [],\n",
       " '4,3': [],\n",
       " '4,4': [],\n",
       " '4,5': [],\n",
       " '4,6': [],\n",
       " '4,7': [(3, 6)],\n",
       " '4,8': [(3, 7)],\n",
       " '4,9': [],\n",
       " '4,10': [],\n",
       " '5,1': [],\n",
       " '5,2': [(4, 1)],\n",
       " '5,3': [],\n",
       " '5,4': [],\n",
       " '5,5': [],\n",
       " '5,6': [],\n",
       " '5,7': [],\n",
       " '5,8': [],\n",
       " '5,9': [(4, 8)],\n",
       " '5,10': [(4, 9)],\n",
       " '6,1': [],\n",
       " '6,2': [],\n",
       " '6,3': [(5, 2)],\n",
       " '6,4': [(6, 3)],\n",
       " '6,5': [(5, 4)],\n",
       " '6,6': [],\n",
       " '6,7': [],\n",
       " '6,8': [],\n",
       " '6,9': [],\n",
       " '6,10': [(5, 9)],\n",
       " '7,1': [],\n",
       " '7,2': [(6, 1)],\n",
       " '7,3': [(6, 3)],\n",
       " '7,4': [(6, 3)],\n",
       " '7,5': [],\n",
       " '7,6': [],\n",
       " '7,7': [],\n",
       " '7,8': [],\n",
       " '7,9': [(6, 8)],\n",
       " '7,10': [(6, 9)]}"
      ]
     },
     "execution_count": 36,
     "metadata": {},
     "output_type": "execute_result"
    }
   ],
   "source": [
    "scores = {\n",
    "    \"match\" : 1,\n",
    "    \"mismatch\" : -1,\n",
    "    \"gap\": 2\n",
    "}\n",
    "\n",
    "def s(xi,xj):\n",
    "    return scores[\"match\"] if xi == xj else scores[\"mismatch\"]\n",
    "\n",
    "def match_mismatch(i,j, xi, xj, matrix):\n",
    "    return matrix[i-1,j-1] + s(xi, xj)\n",
    "\n",
    "#maxk=0…i-1F(k, j) - γ(i - k)\n",
    "def γ(n):\n",
    "    return n * scores[\"gap\"]\n",
    "\n",
    "def row_gaps_score(i,j):\n",
    "    gap_scores = []\n",
    "    for k in range((i)):\n",
    "        gap_score = matrix[k,j] - γ(i-k)\n",
    "        gap_scores.append(gap_score)\n",
    "    \n",
    "    max_score = np.max(gap_scores)\n",
    "    kth_rows = tuple([k for k,value in enumerate(gap_scores) if value==max_score])\n",
    "    #print(kth_rows)\n",
    "    return max_score, kth_rows\n",
    "\n",
    "#maxk=0…j-1F(i, k) - γ(j - k),\n",
    "def col_gaps_score(i,j):\n",
    "    gap_scores = []\n",
    "    for k in range((j)):\n",
    "        gap_score = matrix[i,k] - γ(j-k)\n",
    "        gap_scores.append(gap_score)\n",
    "\n",
    "    max_score = np.max(gap_scores)\n",
    "    kth_cols = tuple([k for k,value in enumerate(gap_scores) if value==max_score])\n",
    "    #print(kth_cols)\n",
    "    return max_score, kth_cols\n",
    "\n",
    "bottom_sequence = \"PAWHEAE\"\n",
    "top_sequence = \"HEAGAWGHEE\"\n",
    "n_rows = len(bottom_sequence)+1\n",
    "n_cols = len(top_sequence)+1\n",
    "\n",
    "matrix = np.zeros((n_rows, n_cols))\n",
    "traceback_dic = {}\n",
    "\n",
    "for i in range(1,n_rows):\n",
    "    for j in range(1,n_cols):\n",
    "        #print(f\"i: {i}, j: {j}\")\n",
    "        xi = bottom_sequence[i-1]\n",
    "        xj = top_sequence[j-1]\n",
    "        score1 = match_mismatch(i,j, xi, xj, matrix)\n",
    "        score2, kth_rows = row_gaps_score(i,j)\n",
    "        score3, kth_cols = col_gaps_score(i,j)\n",
    "        top_score = max(score1, \n",
    "                        score2, \n",
    "                        score3, \n",
    "                        0)\n",
    "        \n",
    "        matrix[i,j] = top_score\n",
    "\n",
    "        top_idx = [t for t, value in enumerate([score1, score2, score3]) if value == top_score]\n",
    "        traceback_dic[f\"{i},{j}\"] = []\n",
    "        for idx in top_idx:\n",
    "            #print(f\"i,j: {i},{j}: \",end=\" \")\n",
    "            #print(traceback_dic[f\"{i},{j}\"])\n",
    "            if top_score > 0:\n",
    "                if idx == 0:\n",
    "                    traceback_dic[f\"{i},{j}\"].append((i-1,j-1))\n",
    "                elif idx == 1:\n",
    "                    for k in kth_rows:\n",
    "                        traceback_dic[f\"{i},{j}\"].append((k,j))\n",
    "                elif idx == 2:\n",
    "                    for k in kth_cols:\n",
    "                        traceback_dic[f\"{i},{j}\"].append((i,k))                \n",
    "\n",
    "traceback_dic"
   ]
  },
  {
   "cell_type": "code",
   "execution_count": 37,
   "metadata": {},
   "outputs": [
    {
     "name": "stdout",
     "output_type": "stream",
     "text": [
      "       0      1      2      3      4      5      6      7      8      9\n",
      "0  (0,0)  (0,1)  (0,2)  (0,3)  (0,4)  (0,5)  (0,6)  (0,7)  (0,8)  (0,9)\n",
      "1  (1,0)  (1,1)  (1,2)  (1,3)  (1,4)  (1,5)  (1,6)  (1,7)  (1,8)  (1,9)\n",
      "2  (2,0)  (2,1)  (2,2)  (2,3)  (2,4)  (2,5)  (2,6)  (2,7)  (2,8)  (2,9)\n",
      "3  (3,0)  (3,1)  (3,2)  (3,3)  (3,4)  (3,5)  (3,6)  (3,7)  (3,8)  (3,9)\n",
      "4  (4,0)  (4,1)  (4,2)  (4,3)  (4,4)  (4,5)  (4,6)  (4,7)  (4,8)  (4,9)\n",
      "5  (5,0)  (5,1)  (5,2)  (5,3)  (5,4)  (5,5)  (5,6)  (5,7)  (5,8)  (5,9)\n",
      "6  (6,0)  (6,1)  (6,2)  (6,3)  (6,4)  (6,5)  (6,6)  (6,7)  (6,8)  (6,9)\n"
     ]
    }
   ],
   "source": [
    "import pandas as pd\n",
    "\n",
    "# Define the shape of the matrix\n",
    "rows, cols = 7, 10\n",
    "\n",
    "# Create the matrix with the specified entries\n",
    "visual_matrix = [[f\"({row},{col})\" for col in range(cols)] for row in range(rows)]\n",
    "\n",
    "# Convert to a pandas DataFrame\n",
    "matrix_df = pd.DataFrame(visual_matrix)\n",
    "\n",
    "# Display the DataFrame\n",
    "print(matrix_df)\n"
   ]
  },
  {
   "cell_type": "code",
   "execution_count": 38,
   "metadata": {},
   "outputs": [
    {
     "data": {
      "text/plain": [
       "array([[0., 0., 0., 0., 0., 0., 0., 0., 0., 0., 0.],\n",
       "       [0., 0., 0., 0., 0., 0., 0., 0., 0., 0., 0.],\n",
       "       [0., 0., 0., 1., 0., 1., 0., 0., 0., 0., 0.],\n",
       "       [0., 0., 0., 0., 0., 0., 2., 0., 0., 0., 0.],\n",
       "       [0., 1., 0., 0., 0., 0., 0., 1., 1., 0., 0.],\n",
       "       [0., 0., 2., 0., 0., 0., 0., 0., 0., 2., 1.],\n",
       "       [0., 0., 0., 3., 1., 1., 0., 0., 0., 0., 1.],\n",
       "       [0., 0., 1., 1., 2., 0., 0., 0., 0., 1., 1.]])"
      ]
     },
     "execution_count": 38,
     "metadata": {},
     "output_type": "execute_result"
    }
   ],
   "source": [
    "matrix"
   ]
  }
 ],
 "metadata": {
  "kernelspec": {
   "display_name": "gpvelo",
   "language": "python",
   "name": "python3"
  },
  "language_info": {
   "codemirror_mode": {
    "name": "ipython",
    "version": 3
   },
   "file_extension": ".py",
   "mimetype": "text/x-python",
   "name": "python",
   "nbconvert_exporter": "python",
   "pygments_lexer": "ipython3",
   "version": "3.11.5"
  }
 },
 "nbformat": 4,
 "nbformat_minor": 2
}
